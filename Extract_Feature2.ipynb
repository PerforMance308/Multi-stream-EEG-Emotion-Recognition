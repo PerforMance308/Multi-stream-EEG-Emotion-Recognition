{
 "cells": [
  {
   "cell_type": "code",
   "execution_count": 1,
   "metadata": {},
   "outputs": [
    {
     "name": "stderr",
     "output_type": "stream",
     "text": [
      "/usr/lib/python3/dist-packages/h5py/__init__.py:36: FutureWarning: Conversion of the second argument of issubdtype from `float` to `np.floating` is deprecated. In future, it will be treated as `np.float64 == np.dtype(float).type`.\n",
      "  from ._conv import register_converters as _register_converters\n"
     ]
    }
   ],
   "source": [
    "import os\n",
    "import tensorflow as tf\n",
    "import numpy as np\n",
    "from tqdm import tqdm_notebook as tqdm\n",
    "import elm\n",
    "from cnn import CNN\n",
    "import matplotlib.pyplot as plt\n",
    "from sklearn import preprocessing\n",
    "import scipy\n",
    "import scipy.io\n",
    "import pickle\n",
    "\n",
    "os.environ['CUDA_VISIBLE_DEVICES'] = '1'\n",
    "DEVICE = '/device:GPU:1'\n",
    "EPOCHS = 50\n",
    "BATCH_SIZE = 256\n",
    "w = 1       \n",
    "SAVE_PATH = 'backup/'"
   ]
  },
  {
   "cell_type": "markdown",
   "metadata": {},
   "source": [
    "## load feature2 images"
   ]
  },
  {
   "cell_type": "code",
   "execution_count": 2,
   "metadata": {},
   "outputs": [],
   "source": [
    "def unpickle(file):\n",
    "    with open(file, 'rb') as fo:\n",
    "        dict = pickle.load(fo, encoding='bytes')\n",
    "    return dict"
   ]
  },
  {
   "cell_type": "code",
   "execution_count": 3,
   "metadata": {},
   "outputs": [],
   "source": [
    "train_data = unpickle(r'./data/SEED1/feature2_imgs/train_images')"
   ]
  },
  {
   "cell_type": "code",
   "execution_count": 4,
   "metadata": {},
   "outputs": [],
   "source": [
    "x_train = train_data['data']\n",
    "y_train = train_data['label']"
   ]
  },
  {
   "cell_type": "code",
   "execution_count": 17,
   "metadata": {},
   "outputs": [],
   "source": [
    "X = tf.placeholder(tf.float32, [None, 9, 9, 5])\n",
    "Y = tf.placeholder(tf.float32, [None, 3])\n",
    "LR = tf.placeholder(tf.float32)"
   ]
  },
  {
   "cell_type": "code",
   "execution_count": 18,
   "metadata": {},
   "outputs": [],
   "source": [
    "net = CNN(X, Y, DEVICE)"
   ]
  },
  {
   "cell_type": "code",
   "execution_count": 19,
   "metadata": {},
   "outputs": [],
   "source": [
    "optimizer = tf.train.AdamOptimizer(LR).minimize(net.loss)\n",
    "accuracy = tf.reduce_mean(tf.cast(tf.equal(tf.argmax(Y, 1), tf.argmax(net.logits,1)), dtype=tf.float32))\n",
    "sess = tf.Session(config=tf.ConfigProto(log_device_placement=False,allow_soft_placement=True))\n",
    "init = tf.global_variables_initializer()\n",
    "sess.run(init)\n",
    "saver = tf.train.Saver()"
   ]
  },
  {
   "cell_type": "code",
   "execution_count": 20,
   "metadata": {},
   "outputs": [
    {
     "name": "stdout",
     "output_type": "stream",
     "text": [
      "INFO:tensorflow:Restoring parameters from backup/model.ckpt\n"
     ]
    }
   ],
   "source": [
    "saver.restore(sess, SAVE_PATH+'model.ckpt')"
   ]
  },
  {
   "cell_type": "code",
   "execution_count": null,
   "metadata": {},
   "outputs": [],
   "source": [
    "allloss = []\n",
    "with tf.device(DEVICE):\n",
    "    epoch = 0\n",
    "    test_acc = []\n",
    "    while epoch < EPOCHS:\n",
    "        total_steps = int(x_train.shape[0]/BATCH_SIZE)\n",
    "        for step in tqdm(range(total_steps), desc=('Epoch '+str(epoch))):  \n",
    "            if step*BATCH_SIZE + BATCH_SIZE < x_train.shape[0]:\n",
    "                BATCH_X = x_train[step*BATCH_SIZE: step*BATCH_SIZE+BATCH_SIZE]\n",
    "                BATCH_Y = y_train[step*BATCH_SIZE: step*BATCH_SIZE+BATCH_SIZE]\n",
    "            else:\n",
    "                BATCH_X = x_train[step*BATCH_SIZE:]\n",
    "                BATCH_Y = y_train[step*BATCH_SIZE:]\n",
    "    \n",
    "            [loss_value, _] = sess.run([net.loss, optimizer], feed_dict={X: BATCH_X, LR: 0.001})\n",
    "        allloss.append(loss_value)\n",
    "        print(\"epoch %d: loss %f\" % (epoch, loss_value))  \n",
    "        saver.save(sess, SAVE_PATH+'model.ckpt')\n",
    "        epoch += 1"
   ]
  },
  {
   "cell_type": "code",
   "execution_count": null,
   "metadata": {},
   "outputs": [],
   "source": [
    "plt.plot(allloss)\n",
    "plt.show()"
   ]
  },
  {
   "cell_type": "code",
   "execution_count": 21,
   "metadata": {},
   "outputs": [
    {
     "data": {
      "text/plain": [
       "<matplotlib.image.AxesImage at 0x7f940c4c9da0>"
      ]
     },
     "execution_count": 21,
     "metadata": {},
     "output_type": "execute_result"
    },
    {
     "data": {
      "image/png": "[encoded data removed]",
      "text/plain": [
       "<matplotlib.figure.Figure at 0x7f943c07fbe0>"
      ]
     },
     "metadata": {},
     "output_type": "display_data"
    }
   ],
   "source": [
    "img = np.array([x_train[6223]])\n",
    "img_decoder = sess.run(net.logits, feed_dict={X:img})\n",
    "\n",
    "img_decoder = img_decoder.reshape(9,9,5)[:,:,:3]\n",
    "\n",
    "plt.subplot(1,2,1)\n",
    "plt.imshow(img[0][:,:,1])\n",
    "\n",
    "plt.subplot(1,2,2)\n",
    "plt.imshow(img_decoder)"
   ]
  },
  {
   "cell_type": "code",
   "execution_count": 22,
   "metadata": {},
   "outputs": [],
   "source": [
    "def load_label(fromIndex, toIndex):\n",
    "    label = scipy.io.loadmat(\"./data/SEED1/processed_data/label.mat\")[\"label\"]\n",
    "    return label[0][fromIndex:toIndex]+1\n",
    "\n",
    "def load(time_index, person_index, movie_st, movie_end):\n",
    "    labellist = load_label(movie_st, movie_end) \n",
    "    data = []\n",
    "    labels = []\n",
    "    sample_number = []\n",
    "    for loop_person in range(person_index-1, person_index):\n",
    "        person_name = 'person%d' % (loop_person + 1)\n",
    "        for loop_time in range(time_index-1, time_index):\n",
    "            name_time = '_time%d' % (loop_time + 1)\n",
    "            filename = person_name + name_time + '.mat'\n",
    "            filedata = scipy.io.loadmat(\"./data/SEED1/processed_data/data/\" + filename)\n",
    "                \n",
    "            for index in range(movie_st, movie_end):\n",
    "                label = labellist[index - movie_st]\n",
    "                feats = filedata['de_LDS' + str(index+1)]\n",
    "                feats = feats.transpose()\n",
    "\n",
    "                for j in range(feats.shape[1]):\n",
    "                    data1 = []\n",
    "                    for i in range(feats.shape[0]):\n",
    "                        data1 = np.append(data1, feats[i][j])\n",
    "                    data.append(data1)\n",
    "                    labels.append(label)\n",
    "                sample_number.append(feats.shape[1])\n",
    "    sample_number = np.array(sample_number).T\n",
    "    dataset = np.array(data)\n",
    "    labels = np.array(labels).reshape(len(labels), 1)\n",
    "    d = np.concatenate((labels, dataset), axis = 1)\n",
    "    return d, sample_number\n",
    "\n",
    "def transfor(dataset):\n",
    "    im = np.zeros([9, 9])\n",
    "    im[0, 3] = dataset[0]\n",
    "    im[0, 4] = dataset[1]\n",
    "    im[0, 5] = dataset[2]\n",
    "    \n",
    "    im[1, 3] = dataset[3]\n",
    "    im[1, 5] = dataset[4]\n",
    "\n",
    "    im[2, 0] = dataset[5]\n",
    "    im[2, 1] = dataset[6]\n",
    "    im[2, 2] = dataset[7]\n",
    "    im[2, 3] = dataset[8]\n",
    "    im[2, 4] = dataset[9]\n",
    "    im[2, 5] = dataset[10]\n",
    "    im[2, 6] = dataset[11]\n",
    "    im[2, 7] = dataset[12]\n",
    "    im[2, 8] = dataset[13]\n",
    "\n",
    "    im[3, 0] = dataset[14]\n",
    "    im[3, 1] = dataset[15]\n",
    "    im[3, 2] = dataset[16]\n",
    "    im[3, 3] = dataset[17]\n",
    "    im[3, 4] = dataset[18]\n",
    "    im[3, 5] = dataset[19]\n",
    "    im[3, 6] = dataset[20]\n",
    "    im[3, 7] = dataset[21]\n",
    "    im[3, 8] = dataset[22]\n",
    "\n",
    "    im[4, 0] = dataset[23]\n",
    "    im[4, 1] = dataset[24]\n",
    "    im[4, 2] = dataset[25]\n",
    "    im[4, 3] = dataset[26]\n",
    "    im[4, 4] = dataset[27]\n",
    "    im[4, 5] = dataset[28]\n",
    "    im[4, 6] = dataset[29]\n",
    "    im[4, 7] = dataset[30]\n",
    "    im[4, 8] = dataset[31]\n",
    "\n",
    "    im[5, 0] = dataset[32]\n",
    "    im[5, 1] = dataset[33]\n",
    "    im[5, 2] = dataset[34]\n",
    "    im[5, 3] = dataset[35]\n",
    "    im[5, 4] = dataset[36]\n",
    "    im[5, 5] = dataset[37]\n",
    "    im[5, 6] = dataset[38]\n",
    "    im[5, 7] = dataset[39]\n",
    "    im[5, 8] = dataset[40]\n",
    "\n",
    "    im[6, 0] = dataset[41]\n",
    "    im[6, 1] = dataset[42]\n",
    "    im[6, 2] = dataset[43]\n",
    "    im[6, 3] = dataset[44]\n",
    "    im[6, 4] = dataset[45]\n",
    "    im[6, 5] = dataset[46]\n",
    "    im[6, 6] = dataset[47]\n",
    "    im[6, 7] = dataset[48]\n",
    "    im[6, 8] = dataset[49]\n",
    "\n",
    "    im[7, 1] = dataset[50]\n",
    "    im[7, 2] = dataset[51]\n",
    "    im[7, 3] = dataset[52]\n",
    "    im[7, 4] = dataset[53]\n",
    "    im[7, 5] = dataset[54]\n",
    "    im[7, 6] = dataset[55]\n",
    "    im[7, 7] = dataset[56]\n",
    "\n",
    "    im[8, 2] = dataset[57]\n",
    "    im[8, 3] = dataset[58]\n",
    "    im[8, 4] = dataset[59]\n",
    "    im[8, 5] = dataset[60]\n",
    "    im[8, 6] = dataset[61]\n",
    "\n",
    "    im = im.reshape(im.shape[0], im.shape[1], 1)\n",
    "    return im\n",
    "\n",
    "def convert(d):\n",
    "    images = []\n",
    "    min_max_scaler = preprocessing.MinMaxScaler(feature_range=(0,1))\n",
    "    d = min_max_scaler.fit_transform(d.T).transpose()\n",
    "    for i in range(d.shape[0]):\n",
    "        image = convert2img(d[i])\n",
    "        images.append(image)\n",
    "    return np.array(images)\n",
    "\n",
    "def convert2img(datarow):\n",
    "    f0 = transfor(datarow[:62])\n",
    "    f1 = transfor(datarow[62:124])\n",
    "    f2 = transfor(datarow[124:186])\n",
    "    f3 = transfor(datarow[186:248])\n",
    "    f4 = transfor(datarow[248:310])\n",
    "    \n",
    "    image = np.concatenate((f0, f1, f2, f3, f4), axis=2)\n",
    "    return image\n",
    "\n",
    "def picklefile(file, data):\n",
    "    with open(file,'wb') as f:\n",
    "        pickle.dump(data,f)"
   ]
  },
  {
   "cell_type": "code",
   "execution_count": 24,
   "metadata": {},
   "outputs": [],
   "source": [
    "for _time in range(1, 4):    \n",
    "    for loop in range(1, 15):\n",
    "        Training, _ = load(_time, loop, 0, 9)\n",
    "        Testing, _ = load(_time, loop, 9, 15)\n",
    "        train_imgs = convert(Training[:,1:])\n",
    "        test_imgs = convert(Testing[:,1:])\n",
    "        train_feature = sess.run(net.encoder, feed_dict={X:train_imgs})\n",
    "        test_feature = sess.run(net.encoder, feed_dict={X:test_imgs})\n",
    "            \n",
    "        traininfo = {'':'', 'data':train_feature}\n",
    "        picklefile(r'./data/SEED1/feature2/train_' + str(_time) + '_' + str(loop), traininfo)\n",
    "        traininfo = {'':'', 'data':test_feature}\n",
    "        picklefile(r'./data/SEED1/feature2/test_' + str(_time) + '_' + str(loop), traininfo)"
   ]
  },
  {
   "cell_type": "code",
   "execution_count": null,
   "metadata": {},
   "outputs": [],
   "source": []
  }
 ],
 "metadata": {
  "kernelspec": {
   "display_name": "Python 3",
   "language": "python",
   "name": "python3"
  },
  "language_info": {
   "codemirror_mode": {
    "name": "ipython",
    "version": 3
   },
   "file_extension": ".py",
   "mimetype": "text/x-python",
   "name": "python",
   "nbconvert_exporter": "python",
   "pygments_lexer": "ipython3",
   "version": "3.6.8"
  }
 },
 "nbformat": 4,
 "nbformat_minor": 2
}
