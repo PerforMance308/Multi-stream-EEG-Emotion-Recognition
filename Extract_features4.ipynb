{
 "cells": [
  {
   "cell_type": "code",
   "execution_count": 2,
   "metadata": {},
   "outputs": [],
   "source": [
    "import os\n",
    "import tensorflow as tf\n",
    "import numpy as np\n",
    "from tqdm import tqdm_notebook as tqdm\n",
    "import elm\n",
    "from f3_cnn import F3CNN\n",
    "import matplotlib.pyplot as plt\n",
    "from sklearn import preprocessing\n",
    "import scipy\n",
    "import scipy.io\n",
    "import pickle\n",
    "\n",
    "os.environ['CUDA_VISIBLE_DEVICES'] = '0'\n",
    "DEVICE = '/device:GPU:0'\n",
    "EPOCHS = 50\n",
    "BATCH_SIZE = 16\n",
    "w = 1       \n",
    "SAVE_PATH = 'backup/'"
   ]
  },
  {
   "cell_type": "code",
   "execution_count": null,
   "metadata": {},
   "outputs": [],
   "source": [
    "def load(fromIndex, toIndex):\n",
    "    datas = None\n",
    "    labels = None\n",
    "    for i in range(1, 14):\n",
    "        print(i)\n",
    "        for t in range(1, 3):\n",
    "            for index in range(fromIndex, toIndex):\n",
    "                fileperfix = 'data/test/s1/feature3_imgs/person' + str(i) + '_time' + str(t) + '_' + str(index)\n",
    "                data = np.load(fileperfix + '.npy')\n",
    "                label = np.load(fileperfix + '_label.npy')\n",
    "                if datas is None:\n",
    "                    datas = data\n",
    "                    labels = label\n",
    "                else:\n",
    "                    datas = np.concatenate((datas, data))\n",
    "                    labels = np.concatenate((labels, label))\n",
    "    return datas, labels\n",
    "\n",
    "def dense_to_one_hot(labels_dense, num_classes = 3):\n",
    "    num_labels = labels_dense.shape[0]\n",
    "    index_offset = np.arange(num_labels) * num_classes\n",
    "    labels_one_hot = np.zeros((num_labels, num_classes))\n",
    "    labels_one_hot.flat[index_offset + labels_dense.ravel()] = 1\n",
    "    return labels_one_hot"
   ]
  }
 ],
 "metadata": {
  "kernelspec": {
   "display_name": "Python 3",
   "language": "python",
   "name": "python3"
  },
  "language_info": {
   "codemirror_mode": {
    "name": "ipython",
    "version": 3
   },
   "file_extension": ".py",
   "mimetype": "text/x-python",
   "name": "python",
   "nbconvert_exporter": "python",
   "pygments_lexer": "ipython3",
   "version": "3.6.8"
  }
 },
 "nbformat": 4,
 "nbformat_minor": 2
}
