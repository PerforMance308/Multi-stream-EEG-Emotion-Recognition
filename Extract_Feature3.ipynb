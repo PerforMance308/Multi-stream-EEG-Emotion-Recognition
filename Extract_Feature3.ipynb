{
 "cells": [
  {
   "cell_type": "code",
   "execution_count": 1,
   "metadata": {},
   "outputs": [
    {
     "name": "stderr",
     "output_type": "stream",
     "text": [
      "/usr/lib/python3/dist-packages/h5py/__init__.py:36: FutureWarning: Conversion of the second argument of issubdtype from `float` to `np.floating` is deprecated. In future, it will be treated as `np.float64 == np.dtype(float).type`.\n",
      "  from ._conv import register_converters as _register_converters\n"
     ]
    }
   ],
   "source": [
    "import os\n",
    "import tensorflow as tf\n",
    "import numpy as np\n",
    "from tqdm import tqdm_notebook as tqdm\n",
    "import elm\n",
    "from f3_cnn import CNN\n",
    "import matplotlib.pyplot as plt\n",
    "from sklearn import preprocessing\n",
    "import scipy\n",
    "import scipy.io\n",
    "import pickle\n",
    "\n",
    "os.environ['CUDA_VISIBLE_DEVICES'] = '0'\n",
    "DEVICE = '/device:GPU:0'\n",
    "EPOCHS = 50\n",
    "BATCH_SIZE = 16\n",
    "w = 1       \n",
    "SAVE_PATH = 'backup/'"
   ]
  },
  {
   "cell_type": "code",
   "execution_count": null,
   "metadata": {},
   "outputs": [],
   "source": [
    "def load(fromIndex, toIndex):\n",
    "    datas = None\n",
    "    labels = None\n",
    "    for i in range(1, 14):\n",
    "        print(i)\n",
    "        for t in range(1, 3):\n",
    "            for index in range(fromIndex, toIndex):\n",
    "                fileperfix = 'data/SEED1/feature3_imgs/person' + str(i) + '_time' + str(t) + '_' + str(index)\n",
    "                data = np.load(fileperfix + '.npy')\n",
    "                label = np.load(fileperfix + '_label.npy')\n",
    "                if datas is None:\n",
    "                    datas = data\n",
    "                    labels = label\n",
    "                else:\n",
    "                    datas = np.concatenate((datas, data))\n",
    "                    labels = np.concatenate((labels, label))\n",
    "    return datas, labels\n",
    "\n",
    "def dense_to_one_hot(labels_dense, num_classes = 3):\n",
    "    num_labels = labels_dense.shape[0]\n",
    "    index_offset = np.arange(num_labels) * num_classes\n",
    "    labels_one_hot = np.zeros((num_labels, num_classes))\n",
    "    labels_one_hot.flat[index_offset + labels_dense.ravel()] = 1\n",
    "    return labels_one_hot"
   ]
  },
  {
   "cell_type": "code",
   "execution_count": null,
   "metadata": {},
   "outputs": [],
   "source": [
    "d, l = load(1, 15)"
   ]
  },
  {
   "cell_type": "code",
   "execution_count": null,
   "metadata": {},
   "outputs": [],
   "source": [
    "permutation = np.random.permutation(d.shape[0])\n",
    "x_train = d[permutation, :, :, :3]\n",
    "y_train = l[permutation]\n",
    "y_train = dense_to_one_hot(y_train)"
   ]
  },
  {
   "cell_type": "code",
   "execution_count": null,
   "metadata": {},
   "outputs": [],
   "source": [
    "X = tf.placeholder(tf.float32, [None, 62, 62, 5])\n",
    "Y = tf.placeholder(tf.float32, [None, 3])\n",
    "LR = tf.placeholder(tf.float32)"
   ]
  },
  {
   "cell_type": "code",
   "execution_count": null,
   "metadata": {},
   "outputs": [],
   "source": [
    "net = CNN(X, Y, DEVICE)"
   ]
  },
  {
   "cell_type": "code",
   "execution_count": null,
   "metadata": {},
   "outputs": [],
   "source": [
    "optimizer = tf.train.AdamOptimizer(LR).minimize(net.loss)\n",
    "accuracy = tf.reduce_mean(tf.cast(tf.equal(tf.argmax(Y, 1), tf.argmax(net.logits,1)), dtype=tf.float32))\n",
    "sess = tf.Session(config=tf.ConfigProto(log_device_placement=False,allow_soft_placement=True))\n",
    "init = tf.global_variables_initializer()\n",
    "sess.run(init)\n",
    "saver = tf.train.Saver()"
   ]
  },
  {
   "cell_type": "code",
   "execution_count": null,
   "metadata": {},
   "outputs": [],
   "source": [
    "allloss = []\n",
    "with tf.device(DEVICE):\n",
    "    epoch = 0\n",
    "    test_acc = []\n",
    "    while epoch < EPOCHS:\n",
    "        total_steps = int(x_train.shape[0]/BATCH_SIZE)\n",
    "        for step in tqdm(range(total_steps), desc=('Epoch '+str(epoch))):  \n",
    "            if step*BATCH_SIZE + BATCH_SIZE < x_train.shape[0]:\n",
    "                BATCH_X = x_train[step*BATCH_SIZE: step*BATCH_SIZE+BATCH_SIZE]\n",
    "                BATCH_Y = y_train[step*BATCH_SIZE: step*BATCH_SIZE+BATCH_SIZE]\n",
    "            else:\n",
    "                BATCH_X = x_train[step*BATCH_SIZE:]\n",
    "                BATCH_Y = y_train[step*BATCH_SIZE:]\n",
    "    \n",
    "            [loss_value, _] = sess.run([net.loss, optimizer], feed_dict={X: BATCH_X, LR: 0.01})\n",
    "        allloss.append(loss_value)\n",
    "        print(\"epoch %d: loss %f\" % (epoch, loss_value))  \n",
    "        saver.save(sess, SAVE_PATH+'model.ckpt')\n",
    "        epoch += 1"
   ]
  },
  {
   "cell_type": "code",
   "execution_count": null,
   "metadata": {},
   "outputs": [],
   "source": [
    "plt.plot(allloss)\n",
    "plt.show()"
   ]
  },
  {
   "cell_type": "code",
   "execution_count": null,
   "metadata": {},
   "outputs": [],
   "source": []
  }
 ],
 "metadata": {
  "kernelspec": {
   "display_name": "Python 3",
   "language": "python",
   "name": "python3"
  },
  "language_info": {
   "codemirror_mode": {
    "name": "ipython",
    "version": 3
   },
   "file_extension": ".py",
   "mimetype": "text/x-python",
   "name": "python",
   "nbconvert_exporter": "python",
   "pygments_lexer": "ipython3",
   "version": "3.6.8"
  }
 },
 "nbformat": 4,
 "nbformat_minor": 2
}
