{
 "cells": [
  {
   "cell_type": "code",
   "execution_count": 1,
   "metadata": {},
   "outputs": [
    {
     "name": "stderr",
     "output_type": "stream",
     "text": [
      "/usr/lib/python3/dist-packages/h5py/__init__.py:36: FutureWarning: Conversion of the second argument of issubdtype from `float` to `np.floating` is deprecated. In future, it will be treated as `np.float64 == np.dtype(float).type`.\n",
      "  from ._conv import register_converters as _register_converters\n"
     ]
    }
   ],
   "source": [
    "import os\n",
    "import tensorflow as tf\n",
    "import numpy as np\n",
    "from tqdm import tqdm_notebook as tqdm\n",
    "import elm\n",
    "from cnn import CNN\n",
    "import matplotlib.pyplot as plt\n",
    "from sklearn import preprocessing\n",
    "import scipy\n",
    "import scipy.io\n",
    "import pickle\n"
   ]
  },
  {
   "cell_type": "code",
   "execution_count": 11,
   "metadata": {},
   "outputs": [],
   "source": [
    "def load_label(fromIndex, toIndex):\n",
    "        label = scipy.io.loadmat(\"./data/SEED1/processed_data/label.mat\")[\"label\"]\n",
    "        return label[0][fromIndex:toIndex]+1\n",
    "    \n",
    "def load_dataset(fromIndex, toIndex):\n",
    "    files = os.listdir(\"./data/SEED1/processed_data/data\")\n",
    "    labellist = load_label(fromIndex, toIndex) \n",
    "\n",
    "    for fileName in files:\n",
    "        for index in range(fromIndex, toIndex):\n",
    "            feats = scipy.io.loadmat(\"./data/SEED1/processed_data/data/\" + fileName)['de_LDS' + str(index)]\n",
    "            feats = cutoff(feats)\n",
    "                \n",
    "            label = labellist[index - fromIndex]\n",
    "            labels = []\n",
    "            for j in range(feats.shape[0]):\n",
    "                labels.append(label)\n",
    "            labels = np.array(labels)\n",
    "            \n",
    "            [saveFile, _] = fileName.split('.')\n",
    "            np.save('data/SEED1/feature3_imgs/' + saveFile + '_' + str(index) + '.npy', feats)\n",
    "            np.save('data/SEED1/feature3_imgs/' + saveFile + '_' + str(index) + '_label.npy', labels) "
   ]
  },
  {
   "cell_type": "code",
   "execution_count": 12,
   "metadata": {},
   "outputs": [],
   "source": [
    "def cutoff(inputs, durations = 62, stride = 1):\n",
    "    result = None\n",
    "    start = 0\n",
    "    while (start * stride + durations) < inputs.shape[1]:\n",
    "        cut = inputs[:, start * stride:start * stride + durations, :]\n",
    "        cut = cut.reshape((1, cut.shape[0], cut.shape[1], cut.shape[2]))\n",
    "        if result is None:\n",
    "            result = cut\n",
    "        else:\n",
    "            result = np.concatenate((result, cut))\n",
    "        start += 1\n",
    "    return result"
   ]
  },
  {
   "cell_type": "code",
   "execution_count": 13,
   "metadata": {},
   "outputs": [],
   "source": [
    "load_dataset(1, 15)"
   ]
  },
  {
   "cell_type": "code",
   "execution_count": null,
   "metadata": {},
   "outputs": [],
   "source": []
  }
 ],
 "metadata": {
  "kernelspec": {
   "display_name": "Python 3",
   "language": "python",
   "name": "python3"
  },
  "language_info": {
   "codemirror_mode": {
    "name": "ipython",
    "version": 3
   },
   "file_extension": ".py",
   "mimetype": "text/x-python",
   "name": "python",
   "nbconvert_exporter": "python",
   "pygments_lexer": "ipython3",
   "version": "3.6.8"
  }
 },
 "nbformat": 4,
 "nbformat_minor": 2
}
